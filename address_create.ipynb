{
 "cells": [
  {
   "cell_type": "code",
   "execution_count": 1,
   "metadata": {},
   "outputs": [],
   "source": [
    "import pandas as pd\n",
    "from faker import Faker\n",
    "import usaddress\n",
    "from collections import defaultdict\n",
    "from itertools import groupby"
   ]
  },
  {
   "cell_type": "code",
   "execution_count": 195,
   "metadata": {},
   "outputs": [],
   "source": [
    "def create_addresses(n):\n",
    "    fake = Faker()\n",
    "    Faker.seed(4321)\n",
    "    address_list = [fake.address() for _ in range(n)]\n",
    "    return address_list"
   ]
  },
  {
   "cell_type": "code",
   "execution_count": 196,
   "metadata": {},
   "outputs": [],
   "source": [
    "# make into function: n = number of addresses // creates address and parses label into dictionary\n",
    "def parse_address(n):\n",
    "    address_dict = defaultdict(list)\n",
    "\n",
    "    fake_addresses = create_addresses(n)\n",
    "\n",
    "    # create dict of addresses and parsed sections\n",
    "    for address in fake_addresses:\n",
    "        parsed_address = usaddress.parse(address)\n",
    "        for parsed in parsed_address:\n",
    "            address_dict[address].append(parsed)\n",
    "\n",
    "    return address_dict\n"
   ]
  },
  {
   "cell_type": "code",
   "execution_count": 197,
   "metadata": {},
   "outputs": [],
   "source": [
    "#  calls parsed addresses to remove new lines and commas\n",
    "def clean_labels(n):\n",
    "    address_dict = parse_address(n)\n",
    "    for address in address_dict:\n",
    "        for i, label in enumerate(address_dict[address]):\n",
    "            label_lst = list(label)\n",
    "            label_lst[0] = label_lst[0].rstrip().rstrip(',')\n",
    "            label_tuple = tuple(label_lst)\n",
    "            address_dict[address][i] = label_tuple\n",
    "\n",
    "    return address_dict"
   ]
  },
  {
   "cell_type": "code",
   "execution_count": 198,
   "metadata": {},
   "outputs": [],
   "source": [
    "# make into function: creates dictionary of addresses with labels as values + combines consecutive labels\n",
    "def combineConsecutive_labels(n):\n",
    "    address_dict = clean_labels(n)\n",
    "    for address in address_dict:\n",
    "        address_labels = address_dict[address]\n",
    "        for i, label in enumerate(address_labels):\n",
    "            if address_labels[i][1] == address_labels[i-1][1]:\n",
    "                new_lst =  address_labels[:i-1] + address_labels[i+1:]\n",
    "                new_lst.append((address_labels[i-1][0] + ' ' + address_labels[i][0], label[1]))\n",
    "                address_dict[address] = new_lst\n",
    "    return address_dict\n",
    "## check for greater than 1 in parsed_col and combine"
   ]
  },
  {
   "cell_type": "code",
   "execution_count": 199,
   "metadata": {},
   "outputs": [],
   "source": [
    "# make into function:  adds missing keys to dictionary + re-orders tuple elements\n",
    "def fillEmpty_keys(n):\n",
    "    address_labels = {'AddressNumber', 'StreetName', 'StreetNamePostType', 'OccupancyType',\n",
    "                    'OccupancyIdentifier', 'PlaceName', 'StateName', 'ZipCode', 'StreetNamePostDirectional', \n",
    "                    'StreetNamePreDirectional', 'SubaddressType', 'SubaddressIdentifier', 'USPSBoxType', \n",
    "                    'USPSBoxID', 'Recipient', 'LandmarkName'}\n",
    "\n",
    "    address_dict = combineConsecutive_labels(n)\n",
    "\n",
    "    for i, address in enumerate(address_dict):\n",
    "        labels = [label[1] for label in address_dict[address]]\n",
    "        missing_labels = address_labels.difference(set(labels))\n",
    "        missing_tuples = [(' ', label) for label in missing_labels]\n",
    "        all_labels = address_dict[address] + missing_tuples\n",
    "        reorder_labels = [(label[1], label[0]) for label in all_labels]\n",
    "        address_dict[list(address_dict.keys())[i]] = reorder_labels\n",
    "\n",
    "    return address_dict"
   ]
  },
  {
   "cell_type": "code",
   "execution_count": 200,
   "metadata": {},
   "outputs": [],
   "source": [
    "def split_streetAddress(labels_dict):\n",
    "    address1_lst = ['AddressNumber', 'StreetNamePreDirectional', 'StreetName', 'StreetNamePostType', 'StreetNamePostDirectional'] \n",
    "    address2_lst = ['OccupancyType', 'OccupancyIdentifier']\n",
    "\n",
    "    address1_labels = {k: v for k, v in labels_dict.items() if k in address1_lst}\n",
    "    address1 = ''\n",
    "    for k, v in address1_labels.items():\n",
    "        address1 = address1 + v + ' '\n",
    "\n",
    "    address2_labels = {k: v for k, v in labels_dict.items() if k in address2_lst}\n",
    "    address2 = ''\n",
    "    for k, v in address2_labels.items():\n",
    "        address2 = address2 + v + ' '\n",
    "\n",
    "    return (address1, address2)\n"
   ]
  },
  {
   "cell_type": "code",
   "execution_count": 201,
   "metadata": {},
   "outputs": [],
   "source": [
    "def split_poBox(labels_dict):\n",
    "    address1_lst = ['SubaddressType', 'SubaddressIdentifier']\n",
    "    address2_lst = ['USPSBoxType',  'USPSBoxID']\n",
    "\n",
    "    address1_labels = {k: v for k, v in labels_dict.items() if k in address1_lst}\n",
    "    address1 = ''\n",
    "    for k, v in address1_labels.items():\n",
    "        address1 = address1 + v + ' '\n",
    "\n",
    "    address2_labels = {k: v for k, v in labels_dict.items() if k in address2_lst}\n",
    "    address2 = ''\n",
    "    for k, v in address2_labels.items():\n",
    "        address2 = address2 + v + ' '\n",
    "        \n",
    "    return (address1, address2)"
   ]
  },
  {
   "cell_type": "code",
   "execution_count": 202,
   "metadata": {},
   "outputs": [],
   "source": [
    "def determine_streetType(address_dict, address, label_dict, labels):\n",
    "    street_dict = { k: label_dict[k] for k in labels }\n",
    "    full_address = ''\n",
    "    full_street_labels = {k: v for k, v in street_dict.items() if v != ' '}\n",
    "    for k, v in full_street_labels.items():\n",
    "        full_address = full_address + v + ' '\n",
    "    full_address_pair = [('FullAddress', full_address.rstrip())]\n",
    "\n",
    "    if 'OccupancyType' in list(full_street_labels.keys()):\n",
    "        addresses = split_streetAddress(full_street_labels)\n",
    "        address1_pair = [('Address1', addresses[0])]\n",
    "        address2_pair = [('Address2', addresses[1])]\n",
    "    \n",
    "    elif 'USPSBoxType' in list(full_street_labels.keys()):\n",
    "        addresses = split_poBox(full_street_labels)\n",
    "        address1_pair = [('Address1', addresses[0])]\n",
    "        address2_pair = [('Address2', addresses[1])]\n",
    "\n",
    "    else:\n",
    "        address1_pair = [('Address1', full_address)]\n",
    "        address2_pair = [('Address2', '')]\n",
    "\n",
    "    address_dict[address] += full_address_pair\n",
    "    address_dict[address] += address1_pair\n",
    "    address_dict[address] += address2_pair\n",
    "    address_dict[address] = dict(address_dict[address])\n",
    "    \n",
    "    return address_dict[address]"
   ]
  },
  {
   "cell_type": "code",
   "execution_count": 203,
   "metadata": {},
   "outputs": [],
   "source": [
    "def get_street_address(n):\n",
    "\n",
    "    street_labels = ['AddressNumber', 'StreetNamePreDirectional', 'StreetName', 'StreetNamePostType', 'StreetNamePostDirectional', 'OccupancyType', 'OccupancyIdentifier']\n",
    "    po_labels = ['SubaddressType', 'SubaddressIdentifier', 'USPSBoxType',  'USPSBoxID']\n",
    "    landmark_labels = ['LandmarkName']\n",
    "    recipient_labels = ['Recipient']\n",
    "\n",
    "    address_dict = fillEmpty_keys(n)\n",
    "    for address in address_dict:\n",
    "        label_dict = dict(address_dict[address])\n",
    "        \n",
    "        if label_dict['AddressNumber'] != ' ':\n",
    "            address_dict[address] = determine_streetType(address_dict, address, label_dict, street_labels)\n",
    "\n",
    "        elif label_dict['SubaddressType'] != ' ':\n",
    "            address_dict[address] = determine_streetType(address_dict, address, label_dict, po_labels)\n",
    "\n",
    "        elif label_dict['LandmarkName'] != ' ':\n",
    "            address_dict[address] = determine_streetType(address_dict, address, label_dict, landmark_labels)\n",
    "\n",
    "        elif label_dict['Recipient'] != ' ':\n",
    "            address_dict[address] = determine_streetType(address_dict, address, label_dict, recipient_labels)\n",
    "        \n",
    "    return address_dict\n"
   ]
  },
  {
   "cell_type": "code",
   "execution_count": 205,
   "metadata": {},
   "outputs": [
    {
     "data": {
      "text/html": [
       "<div>\n",
       "<style scoped>\n",
       "    .dataframe tbody tr th:only-of-type {\n",
       "        vertical-align: middle;\n",
       "    }\n",
       "\n",
       "    .dataframe tbody tr th {\n",
       "        vertical-align: top;\n",
       "    }\n",
       "\n",
       "    .dataframe thead th {\n",
       "        text-align: right;\n",
       "    }\n",
       "</style>\n",
       "<table border=\"1\" class=\"dataframe\">\n",
       "  <thead>\n",
       "    <tr style=\"text-align: right;\">\n",
       "      <th></th>\n",
       "      <th>FullAddress</th>\n",
       "      <th>Address1</th>\n",
       "      <th>Address2</th>\n",
       "      <th>City</th>\n",
       "      <th>State</th>\n",
       "      <th>ZipCode</th>\n",
       "    </tr>\n",
       "  </thead>\n",
       "  <tbody>\n",
       "    <tr>\n",
       "      <th>0</th>\n",
       "      <td>25102 Tom Loop Apt. 667</td>\n",
       "      <td>25102 Tom Loop</td>\n",
       "      <td>Apt. 667</td>\n",
       "      <td>South Adam</td>\n",
       "      <td>FL</td>\n",
       "      <td>57896</td>\n",
       "    </tr>\n",
       "    <tr>\n",
       "      <th>1</th>\n",
       "      <td>385 Day Vista Suite 343</td>\n",
       "      <td>385 Day Vista</td>\n",
       "      <td>Suite 343</td>\n",
       "      <td>Rogerville</td>\n",
       "      <td>WI</td>\n",
       "      <td>44492</td>\n",
       "    </tr>\n",
       "  </tbody>\n",
       "</table>\n",
       "</div>"
      ],
      "text/plain": [
       "               FullAddress         Address1    Address2        City State  \\\n",
       "0  25102 Tom Loop Apt. 667  25102 Tom Loop    Apt. 667   South Adam    FL   \n",
       "1  385 Day Vista Suite 343   385 Day Vista   Suite 343   Rogerville    WI   \n",
       "\n",
       "  ZipCode  \n",
       "0   57896  \n",
       "1   44492  "
      ]
     },
     "execution_count": 205,
     "metadata": {},
     "output_type": "execute_result"
    }
   ],
   "source": [
    "fake_address_dict = get_street_address(2)\n",
    "\n",
    "df = pd.DataFrame.from_dict(fake_address_dict)\n",
    "\n",
    "df = df.T.reset_index().rename(columns={'PlaceName':'City', 'StateName':'State'})\n",
    "\n",
    "df[['FullAddress', 'Address1', 'Address2', 'City', 'State', 'ZipCode']]\n"
   ]
  },
  {
   "cell_type": "code",
   "execution_count": null,
   "metadata": {},
   "outputs": [],
   "source": []
  }
 ],
 "metadata": {
  "interpreter": {
   "hash": "397704579725e15f5c7cb49fe5f0341eb7531c82d19f2c29d197e8b64ab5776b"
  },
  "kernelspec": {
   "display_name": "Python 3.9.1 64-bit",
   "language": "python",
   "name": "python3"
  },
  "language_info": {
   "codemirror_mode": {
    "name": "ipython",
    "version": 3
   },
   "file_extension": ".py",
   "mimetype": "text/x-python",
   "name": "python",
   "nbconvert_exporter": "python",
   "pygments_lexer": "ipython3",
   "version": "3.9.1"
  },
  "orig_nbformat": 4
 },
 "nbformat": 4,
 "nbformat_minor": 2
}
